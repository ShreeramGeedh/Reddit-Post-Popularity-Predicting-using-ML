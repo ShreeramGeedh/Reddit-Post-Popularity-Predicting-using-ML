{
  "nbformat": 4,
  "nbformat_minor": 0,
  "metadata": {
    "colab": {
      "name": "Reddit Post Score Prediction.ipynb",
      "provenance": [],
      "collapsed_sections": []
    },
    "kernelspec": {
      "name": "python3",
      "display_name": "Python 3"
    }
  },
  "cells": [
    {
      "cell_type": "code",
      "metadata": {
        "colab": {
          "base_uri": "https://localhost:8080/"
        },
        "id": "o-RDvzC7NaM3",
        "outputId": "a74aa5cb-c6a5-48b4-aa92-1141c488281f"
      },
      "source": [
        "import nltk\r\n",
        "nltk.download('popular')"
      ],
      "execution_count": 98,
      "outputs": [
        {
          "output_type": "stream",
          "text": [
            "[nltk_data] Downloading collection 'popular'\n",
            "[nltk_data]    | \n",
            "[nltk_data]    | Downloading package cmudict to /root/nltk_data...\n",
            "[nltk_data]    |   Package cmudict is already up-to-date!\n",
            "[nltk_data]    | Downloading package gazetteers to /root/nltk_data...\n",
            "[nltk_data]    |   Package gazetteers is already up-to-date!\n",
            "[nltk_data]    | Downloading package genesis to /root/nltk_data...\n",
            "[nltk_data]    |   Package genesis is already up-to-date!\n",
            "[nltk_data]    | Downloading package gutenberg to /root/nltk_data...\n",
            "[nltk_data]    |   Package gutenberg is already up-to-date!\n",
            "[nltk_data]    | Downloading package inaugural to /root/nltk_data...\n",
            "[nltk_data]    |   Package inaugural is already up-to-date!\n",
            "[nltk_data]    | Downloading package movie_reviews to\n",
            "[nltk_data]    |     /root/nltk_data...\n",
            "[nltk_data]    |   Package movie_reviews is already up-to-date!\n",
            "[nltk_data]    | Downloading package names to /root/nltk_data...\n",
            "[nltk_data]    |   Package names is already up-to-date!\n",
            "[nltk_data]    | Downloading package shakespeare to /root/nltk_data...\n",
            "[nltk_data]    |   Package shakespeare is already up-to-date!\n",
            "[nltk_data]    | Downloading package stopwords to /root/nltk_data...\n",
            "[nltk_data]    |   Package stopwords is already up-to-date!\n",
            "[nltk_data]    | Downloading package treebank to /root/nltk_data...\n",
            "[nltk_data]    |   Package treebank is already up-to-date!\n",
            "[nltk_data]    | Downloading package twitter_samples to\n",
            "[nltk_data]    |     /root/nltk_data...\n",
            "[nltk_data]    |   Package twitter_samples is already up-to-date!\n",
            "[nltk_data]    | Downloading package omw to /root/nltk_data...\n",
            "[nltk_data]    |   Package omw is already up-to-date!\n",
            "[nltk_data]    | Downloading package wordnet to /root/nltk_data...\n",
            "[nltk_data]    |   Package wordnet is already up-to-date!\n",
            "[nltk_data]    | Downloading package wordnet_ic to /root/nltk_data...\n",
            "[nltk_data]    |   Package wordnet_ic is already up-to-date!\n",
            "[nltk_data]    | Downloading package words to /root/nltk_data...\n",
            "[nltk_data]    |   Package words is already up-to-date!\n",
            "[nltk_data]    | Downloading package maxent_ne_chunker to\n",
            "[nltk_data]    |     /root/nltk_data...\n",
            "[nltk_data]    |   Package maxent_ne_chunker is already up-to-date!\n",
            "[nltk_data]    | Downloading package punkt to /root/nltk_data...\n",
            "[nltk_data]    |   Package punkt is already up-to-date!\n",
            "[nltk_data]    | Downloading package snowball_data to\n",
            "[nltk_data]    |     /root/nltk_data...\n",
            "[nltk_data]    |   Package snowball_data is already up-to-date!\n",
            "[nltk_data]    | Downloading package averaged_perceptron_tagger to\n",
            "[nltk_data]    |     /root/nltk_data...\n",
            "[nltk_data]    |   Package averaged_perceptron_tagger is already up-\n",
            "[nltk_data]    |       to-date!\n",
            "[nltk_data]    | \n",
            "[nltk_data]  Done downloading collection popular\n"
          ],
          "name": "stdout"
        },
        {
          "output_type": "execute_result",
          "data": {
            "text/plain": [
              "True"
            ]
          },
          "metadata": {
            "tags": []
          },
          "execution_count": 98
        }
      ]
    },
    {
      "cell_type": "code",
      "metadata": {
        "colab": {
          "base_uri": "https://localhost:8080/"
        },
        "id": "jJCoaPxEntbm",
        "outputId": "1097ae73-2dd0-483e-ea4e-1fbabd961bfe"
      },
      "source": [
        "from google.colab import drive\n",
        "drive.mount('/content/drive')"
      ],
      "execution_count": 99,
      "outputs": [
        {
          "output_type": "stream",
          "text": [
            "Drive already mounted at /content/drive; to attempt to forcibly remount, call drive.mount(\"/content/drive\", force_remount=True).\n"
          ],
          "name": "stdout"
        }
      ]
    },
    {
      "cell_type": "code",
      "metadata": {
        "id": "xxChx38YJjOP"
      },
      "source": [
        "from numpy import array\r\n",
        "from numpy import asarray\r\n",
        "from numpy import zeros\r\n",
        "import pandas as pd\r\n",
        "from sklearn.model_selection import train_test_split\r\n",
        "import numpy as np\r\n",
        "from collections import deque\r\n",
        "import matplotlib.pyplot as plt"
      ],
      "execution_count": 100,
      "outputs": []
    },
    {
      "cell_type": "code",
      "metadata": {
        "id": "omJmSqupJmPF"
      },
      "source": [
        "from keras.preprocessing.text import Tokenizer\r\n",
        "from keras.preprocessing.sequence import pad_sequences\r\n",
        "import pickle"
      ],
      "execution_count": 101,
      "outputs": []
    },
    {
      "cell_type": "code",
      "metadata": {
        "id": "z2w5hnIGJrJS"
      },
      "source": [
        "data = pd.read_csv('ScrappedPostsData.csv')"
      ],
      "execution_count": 103,
      "outputs": []
    },
    {
      "cell_type": "code",
      "metadata": {
        "id": "vsVRnkxNKBb0"
      },
      "source": [
        "data.dropna(inplace=True)"
      ],
      "execution_count": 104,
      "outputs": []
    },
    {
      "cell_type": "code",
      "metadata": {
        "id": "7OA0ICfyoMA3"
      },
      "source": [
        "data.drop(['Unnamed: 0','Upvote_ratio'], axis=1, inplace=True)"
      ],
      "execution_count": 105,
      "outputs": []
    },
    {
      "cell_type": "code",
      "metadata": {
        "colab": {
          "base_uri": "https://localhost:8080/",
          "height": 489
        },
        "id": "eZHHFGiuPchC",
        "outputId": "de81958f-3e86-4f9b-f1e6-15ac72d77fbb"
      },
      "source": [
        "plt.figure(figsize=(20,15))\r\n",
        "plt.subplot(221)\r\n",
        "title_word_lengths = [len(str(data.Title.iloc[i]).split(' ')) for i in range(len(data))]\r\n",
        "max_title_word_length = max(title_word_lengths)\r\n",
        "min_title_word_length = min(title_word_lengths)\r\n",
        "average_title_word_length = sum(title_word_lengths)/len(title_word_lengths)\r\n",
        "plt.hist(title_word_lengths, bins = 30)\r\n",
        "print('Title word count lengths: \\n Min: {} \\n Max: {} \\n Average: {}'.format(min_title_word_length, max_title_word_length, average_title_word_length))\r\n"
      ],
      "execution_count": 106,
      "outputs": [
        {
          "output_type": "stream",
          "text": [
            "Title word count lengths: \n",
            " Min: 1 \n",
            " Max: 210 \n",
            " Average: 10.85932518597237\n"
          ],
          "name": "stdout"
        },
        {
          "output_type": "display_data",
          "data": {
            "image/png": "[encoded data removed]",
            "text/plain": [
              "<Figure size 1440x1080 with 1 Axes>"
            ]
          },
          "metadata": {
            "tags": [],
            "needs_background": "light"
          }
        }
      ]
    },
    {
      "cell_type": "code",
      "metadata": {
        "id": "duFv27Q3IlnF"
      },
      "source": [
        "# data preprocessing\r\n",
        "from sklearn.feature_extraction.text import ENGLISH_STOP_WORDS\r\n",
        "import re\r\n",
        "\r\n",
        "from nltk.stem import WordNetLemmatizer,PorterStemmer\r\n",
        "lemmatizer = WordNetLemmatizer()\r\n",
        "stemmer = PorterStemmer()\r\n",
        "\r\n",
        "def text_preprocess(text):\r\n",
        "    text = re.sub(r'[^\\w\\s]', '', text) \r\n",
        "    l_text = [word for word in text.lower().split() if word not in ENGLISH_STOP_WORDS]\r\n",
        "    stem_words = [stemmer.stem(w) for w in l_text]\r\n",
        "    lemma_words = [lemmatizer.lemmatize(w) for w in l_text]\r\n",
        "\r\n",
        "    return \" \".join(lemma_words)\r\n",
        "\r\n",
        "data['Title'] = data['Title'].map(lambda com : text_preprocess(com))"
      ],
      "execution_count": 107,
      "outputs": []
    },
    {
      "cell_type": "code",
      "metadata": {
        "colab": {
          "base_uri": "https://localhost:8080/",
          "height": 271
        },
        "id": "UBJOaU6NWMlr",
        "outputId": "669ba942-97ca-4833-e3c1-1dab4e0dabb4"
      },
      "source": [
        "data.head()"
      ],
      "execution_count": 108,
      "outputs": [
        {
          "output_type": "execute_result",
          "data": {
            "text/html": [
              "<div>\n",
              "<style scoped>\n",
              "    .dataframe tbody tr th:only-of-type {\n",
              "        vertical-align: middle;\n",
              "    }\n",
              "\n",
              "    .dataframe tbody tr th {\n",
              "        vertical-align: top;\n",
              "    }\n",
              "\n",
              "    .dataframe thead th {\n",
              "        text-align: right;\n",
              "    }\n",
              "</style>\n",
              "<table border=\"1\" class=\"dataframe\">\n",
              "  <thead>\n",
              "    <tr style=\"text-align: right;\">\n",
              "      <th></th>\n",
              "      <th>Title</th>\n",
              "      <th>Score</th>\n",
              "      <th>Gilded</th>\n",
              "      <th>Over_18</th>\n",
              "      <th>Number_of_Comments</th>\n",
              "      <th>neg</th>\n",
              "      <th>neu</th>\n",
              "      <th>pos</th>\n",
              "      <th>compound</th>\n",
              "    </tr>\n",
              "  </thead>\n",
              "  <tbody>\n",
              "    <tr>\n",
              "      <th>0</th>\n",
              "      <td>people continue wearing mask pandemic end</td>\n",
              "      <td>40466</td>\n",
              "      <td>0</td>\n",
              "      <td>False</td>\n",
              "      <td>12754</td>\n",
              "      <td>0.000</td>\n",
              "      <td>1.000</td>\n",
              "      <td>0.000</td>\n",
              "      <td>0.0000</td>\n",
              "    </tr>\n",
              "    <tr>\n",
              "      <th>1</th>\n",
              "      <td>dear covid fuck covid icu nurse</td>\n",
              "      <td>15456</td>\n",
              "      <td>2</td>\n",
              "      <td>False</td>\n",
              "      <td>635</td>\n",
              "      <td>0.315</td>\n",
              "      <td>0.450</td>\n",
              "      <td>0.234</td>\n",
              "      <td>-0.2263</td>\n",
              "    </tr>\n",
              "    <tr>\n",
              "      <th>2</th>\n",
              "      <td>thailand elephant rescued abuse brought sanctu...</td>\n",
              "      <td>36866</td>\n",
              "      <td>1</td>\n",
              "      <td>False</td>\n",
              "      <td>645</td>\n",
              "      <td>0.088</td>\n",
              "      <td>0.607</td>\n",
              "      <td>0.305</td>\n",
              "      <td>0.8860</td>\n",
              "    </tr>\n",
              "    <tr>\n",
              "      <th>3</th>\n",
              "      <td>philippine poised lift age consent sex decade ...</td>\n",
              "      <td>54377</td>\n",
              "      <td>0</td>\n",
              "      <td>False</td>\n",
              "      <td>2278</td>\n",
              "      <td>0.059</td>\n",
              "      <td>0.766</td>\n",
              "      <td>0.176</td>\n",
              "      <td>0.3818</td>\n",
              "    </tr>\n",
              "    <tr>\n",
              "      <th>4</th>\n",
              "      <td>happening trump supporter trying destroy orego...</td>\n",
              "      <td>45937</td>\n",
              "      <td>1</td>\n",
              "      <td>False</td>\n",
              "      <td>4021</td>\n",
              "      <td>0.154</td>\n",
              "      <td>0.570</td>\n",
              "      <td>0.276</td>\n",
              "      <td>0.4215</td>\n",
              "    </tr>\n",
              "  </tbody>\n",
              "</table>\n",
              "</div>"
            ],
            "text/plain": [
              "                                               Title  Score  ...    pos  compound\n",
              "0          people continue wearing mask pandemic end  40466  ...  0.000    0.0000\n",
              "1                    dear covid fuck covid icu nurse  15456  ...  0.234   -0.2263\n",
              "2  thailand elephant rescued abuse brought sanctu...  36866  ...  0.305    0.8860\n",
              "3  philippine poised lift age consent sex decade ...  54377  ...  0.176    0.3818\n",
              "4  happening trump supporter trying destroy orego...  45937  ...  0.276    0.4215\n",
              "\n",
              "[5 rows x 9 columns]"
            ]
          },
          "metadata": {
            "tags": []
          },
          "execution_count": 108
        }
      ]
    },
    {
      "cell_type": "code",
      "metadata": {
        "id": "lEKIbA-ccGpj"
      },
      "source": [
        "i = 0\r\n",
        "\r\n",
        "predicted_value = []\r\n",
        "\r\n",
        "while i<len(data):\r\n",
        "  if (data.loc[i]['compound'] >= 0.5):\r\n",
        "    predicted_value.append('positive')\r\n",
        "    i = i+1\r\n",
        "\r\n",
        "  elif (data.loc[i]['compound'] >= 0) & (data.loc[i]['compound'] <= 0.5):\r\n",
        "    predicted_value.append('neutral')\r\n",
        "    i = i+1\r\n",
        "\r\n",
        "  elif (data.loc[i]['compound'] <= 0):\r\n",
        "    predicted_value.append('negative')\r\n",
        "    i = i+1"
      ],
      "execution_count": 109,
      "outputs": []
    },
    {
      "cell_type": "code",
      "metadata": {
        "id": "3BApFtMYfOUb"
      },
      "source": [
        "data['Predicted_value'] = predicted_value"
      ],
      "execution_count": 110,
      "outputs": []
    },
    {
      "cell_type": "code",
      "metadata": {
        "id": "ZgUugb_ufUSn"
      },
      "source": [
        "data.drop(['neg', 'neu', 'pos', 'compound'], axis=1, inplace=True)"
      ],
      "execution_count": 111,
      "outputs": []
    },
    {
      "cell_type": "code",
      "metadata": {
        "id": "DYdi5jvmPCxC"
      },
      "source": [
        "X = data.drop(['Score'], axis=1)\r\n",
        "y = data['Score']"
      ],
      "execution_count": 112,
      "outputs": []
    },
    {
      "cell_type": "code",
      "metadata": {
        "colab": {
          "base_uri": "https://localhost:8080/"
        },
        "id": "WFA6QU_OfvAA",
        "outputId": "292a5e6a-0307-4485-a16f-a268d53459e3"
      },
      "source": [
        "lengths = max([len(x) for x in X.Title])\r\n",
        "lengths"
      ],
      "execution_count": 113,
      "outputs": [
        {
          "output_type": "execute_result",
          "data": {
            "text/plain": [
              "278"
            ]
          },
          "metadata": {
            "tags": []
          },
          "execution_count": 113
        }
      ]
    },
    {
      "cell_type": "code",
      "metadata": {
        "id": "zjN1MgOvKJ-O"
      },
      "source": [
        "X_train, X_test, y_train, y_test = train_test_split(X, y, test_size=0.40, random_state=42)"
      ],
      "execution_count": 114,
      "outputs": []
    },
    {
      "cell_type": "code",
      "metadata": {
        "id": "TonbD7jNKLgA"
      },
      "source": [
        "tokenizer = Tokenizer(num_words=5000)\r\n",
        "tokenizer.fit_on_texts(X_train[\"Title\"])"
      ],
      "execution_count": 115,
      "outputs": []
    },
    {
      "cell_type": "code",
      "metadata": {
        "id": "z_EVgqi4gv0Y"
      },
      "source": [
        "train_title = tokenizer.texts_to_sequences(X_train[\"Title\"])\r\n",
        "test_title = tokenizer.texts_to_sequences(X_test[\"Title\"])\r\n",
        "\r\n",
        "vocab_size = len(tokenizer.word_index) + 1"
      ],
      "execution_count": 116,
      "outputs": []
    },
    {
      "cell_type": "code",
      "metadata": {
        "id": "g5Gf7sikIDOm"
      },
      "source": [
        "indixes = tokenizer.word_index\r\n",
        "tokens = {k:[indixes[k]] for k in indixes}\r\n",
        "df_tokens = pd.DataFrame(tokens)\r\n",
        "df_tokens.to_csv('tokens.csv', header=True, index=False)"
      ],
      "execution_count": 117,
      "outputs": []
    },
    {
      "cell_type": "code",
      "metadata": {
        "id": "O39OzsugKO0_"
      },
      "source": [
        "maxlen = 300\r\n",
        "\r\n",
        "train_title = pad_sequences(train_title, padding='post', maxlen=maxlen)\r\n",
        "test_title = pad_sequences(test_title, padding='post', maxlen=maxlen)"
      ],
      "execution_count": 118,
      "outputs": []
    },
    {
      "cell_type": "code",
      "metadata": {
        "id": "BpVFhOlfKQzS"
      },
      "source": [
        "embeddings_dictionary = dict()\r\n",
        "\r\n",
        "glove_file = open('/content/drive/My Drive/glove.6B.100d.txt', encoding=\"utf8\")\r\n",
        "\r\n",
        "for line in glove_file:\r\n",
        "    records = line.split()\r\n",
        "    word = records[0]\r\n",
        "    vector_dimensions = asarray(records[1:], dtype='float32')\r\n",
        "    embeddings_dictionary[word] = vector_dimensions\r\n",
        "glove_file.close()"
      ],
      "execution_count": 120,
      "outputs": []
    },
    {
      "cell_type": "code",
      "metadata": {
        "id": "wVZOqt_tKVUF"
      },
      "source": [
        "embedding_matrix = zeros((vocab_size, 100))\r\n",
        "for word, index in tokenizer.word_index.items():\r\n",
        "    embedding_vector = embeddings_dictionary.get(word)\r\n",
        "    if embedding_vector is not None:\r\n",
        "        embedding_matrix[index] = embedding_vector"
      ],
      "execution_count": 121,
      "outputs": []
    },
    {
      "cell_type": "code",
      "metadata": {
        "id": "1ObLLfBLKGkq"
      },
      "source": [
        "df = pd.DataFrame(data=embedding_matrix.astype(float))\r\n",
        "df.to_csv('embedding_matrix.csv', sep=' ', header=True, float_format='%.2f', index=False)"
      ],
      "execution_count": 122,
      "outputs": []
    },
    {
      "cell_type": "code",
      "metadata": {
        "id": "mLOjS3kqLLzi"
      },
      "source": [
        "train_new = {}\r\n",
        "for i, sentence in enumerate(train_title):\r\n",
        "    vectors = []\r\n",
        "    for n in sentence:\r\n",
        "        vectors.append(embedding_matrix[n])\r\n",
        "    train_new[i] = vectors"
      ],
      "execution_count": 123,
      "outputs": []
    },
    {
      "cell_type": "code",
      "metadata": {
        "id": "I6j6KzGrLN80"
      },
      "source": [
        "test_new = {}\r\n",
        "for i, sentence in enumerate(test_title):\r\n",
        "    vectors = []\r\n",
        "    for n in sentence:\r\n",
        "        vectors.append(embedding_matrix[n])\r\n",
        "    test_new[i] = vectors"
      ],
      "execution_count": 124,
      "outputs": []
    },
    {
      "cell_type": "code",
      "metadata": {
        "id": "T2P2SK27LQRI"
      },
      "source": [
        "X_train_df = []\r\n",
        "for key in train_new:\r\n",
        "    arr = np.array(train_new[key])\r\n",
        "    X_train_df.append(np.mean(arr, axis=0))"
      ],
      "execution_count": 125,
      "outputs": []
    },
    {
      "cell_type": "code",
      "metadata": {
        "id": "t5Qc2kiuLSUA"
      },
      "source": [
        "X_test_df = []\r\n",
        "for key in test_new:\r\n",
        "    arr = np.array(test_new[key])\r\n",
        "    X_test_df.append(np.mean(arr, axis=0))"
      ],
      "execution_count": 126,
      "outputs": []
    },
    {
      "cell_type": "code",
      "metadata": {
        "id": "ATHo8IXPLUk1"
      },
      "source": [
        "X_train_df = pd.DataFrame(np.array(X_train_df))\r\n",
        "X_test_df = pd.DataFrame(np.array(X_test_df))"
      ],
      "execution_count": 127,
      "outputs": []
    },
    {
      "cell_type": "code",
      "metadata": {
        "id": "NvyHRjxUYNVA"
      },
      "source": [
        "from sklearn.preprocessing import OneHotEncoder\r\n",
        "\r\n",
        "categories = ['Over_18', 'Predicted_value']\r\n",
        "enc = OneHotEncoder(handle_unknown='ignore')\r\n",
        "enc.fit(X_train[categories])\r\n",
        "pickle.dump(enc, open('one_hot.pkl','wb'))"
      ],
      "execution_count": 128,
      "outputs": []
    },
    {
      "cell_type": "code",
      "metadata": {
        "id": "qDd0KPZAdfLg"
      },
      "source": [
        "col_names = [j for sub in enc.categories_ for j in sub] "
      ],
      "execution_count": 129,
      "outputs": []
    },
    {
      "cell_type": "code",
      "metadata": {
        "colab": {
          "base_uri": "https://localhost:8080/"
        },
        "id": "42cCcj2xe8mO",
        "outputId": "28ff9f37-ebd5-422e-aaa1-e934fb397f23"
      },
      "source": [
        "col_names"
      ],
      "execution_count": 130,
      "outputs": [
        {
          "output_type": "execute_result",
          "data": {
            "text/plain": [
              "[False, True, 'negative', 'neutral', 'positive']"
            ]
          },
          "metadata": {
            "tags": []
          },
          "execution_count": 130
        }
      ]
    },
    {
      "cell_type": "code",
      "metadata": {
        "id": "wWYga4-bY_iG"
      },
      "source": [
        "train_encoded = enc.transform(X_train[categories])\r\n",
        "test_encoded = enc.transform(X_test[categories])"
      ],
      "execution_count": 131,
      "outputs": []
    },
    {
      "cell_type": "code",
      "metadata": {
        "colab": {
          "base_uri": "https://localhost:8080/"
        },
        "id": "IBajHnZ-LXE-",
        "outputId": "675d75ba-4363-4499-ce96-5326637048d2"
      },
      "source": [
        "X_train.drop([\"Title\", 'Over_18', 'Predicted_value'], axis=1, inplace=True)\r\n",
        "X_test.drop([\"Title\", 'Over_18', 'Predicted_value'], axis=1, inplace=True)"
      ],
      "execution_count": 132,
      "outputs": [
        {
          "output_type": "stream",
          "text": [
            "/usr/local/lib/python3.6/dist-packages/pandas/core/frame.py:4174: SettingWithCopyWarning: \n",
            "A value is trying to be set on a copy of a slice from a DataFrame\n",
            "\n",
            "See the caveats in the documentation: https://pandas.pydata.org/pandas-docs/stable/user_guide/indexing.html#returning-a-view-versus-a-copy\n",
            "  errors=errors,\n"
          ],
          "name": "stderr"
        }
      ]
    },
    {
      "cell_type": "code",
      "metadata": {
        "id": "4QOGMu8rLaIa"
      },
      "source": [
        "X_train.reset_index(inplace=True, drop=True)\r\n",
        "X_test.reset_index(inplace=True, drop=True)"
      ],
      "execution_count": 133,
      "outputs": []
    },
    {
      "cell_type": "code",
      "metadata": {
        "id": "iLv5i964c8RL"
      },
      "source": [
        "train = pd.DataFrame(train_encoded.todense(), columns=col_names)\r\n",
        "test = pd.DataFrame(test_encoded.todense(), columns=col_names)"
      ],
      "execution_count": 134,
      "outputs": []
    },
    {
      "cell_type": "code",
      "metadata": {
        "colab": {
          "base_uri": "https://localhost:8080/",
          "height": 202
        },
        "id": "_uxS36L9fD9Y",
        "outputId": "8808907b-fd12-4085-bd71-6b501f3fed43"
      },
      "source": [
        "train.head()"
      ],
      "execution_count": 135,
      "outputs": [
        {
          "output_type": "execute_result",
          "data": {
            "text/html": [
              "<div>\n",
              "<style scoped>\n",
              "    .dataframe tbody tr th:only-of-type {\n",
              "        vertical-align: middle;\n",
              "    }\n",
              "\n",
              "    .dataframe tbody tr th {\n",
              "        vertical-align: top;\n",
              "    }\n",
              "\n",
              "    .dataframe thead th {\n",
              "        text-align: right;\n",
              "    }\n",
              "</style>\n",
              "<table border=\"1\" class=\"dataframe\">\n",
              "  <thead>\n",
              "    <tr style=\"text-align: right;\">\n",
              "      <th></th>\n",
              "      <th>False</th>\n",
              "      <th>True</th>\n",
              "      <th>negative</th>\n",
              "      <th>neutral</th>\n",
              "      <th>positive</th>\n",
              "    </tr>\n",
              "  </thead>\n",
              "  <tbody>\n",
              "    <tr>\n",
              "      <th>0</th>\n",
              "      <td>1.0</td>\n",
              "      <td>0.0</td>\n",
              "      <td>0.0</td>\n",
              "      <td>1.0</td>\n",
              "      <td>0.0</td>\n",
              "    </tr>\n",
              "    <tr>\n",
              "      <th>1</th>\n",
              "      <td>1.0</td>\n",
              "      <td>0.0</td>\n",
              "      <td>0.0</td>\n",
              "      <td>1.0</td>\n",
              "      <td>0.0</td>\n",
              "    </tr>\n",
              "    <tr>\n",
              "      <th>2</th>\n",
              "      <td>1.0</td>\n",
              "      <td>0.0</td>\n",
              "      <td>0.0</td>\n",
              "      <td>1.0</td>\n",
              "      <td>0.0</td>\n",
              "    </tr>\n",
              "    <tr>\n",
              "      <th>3</th>\n",
              "      <td>1.0</td>\n",
              "      <td>0.0</td>\n",
              "      <td>0.0</td>\n",
              "      <td>1.0</td>\n",
              "      <td>0.0</td>\n",
              "    </tr>\n",
              "    <tr>\n",
              "      <th>4</th>\n",
              "      <td>1.0</td>\n",
              "      <td>0.0</td>\n",
              "      <td>0.0</td>\n",
              "      <td>1.0</td>\n",
              "      <td>0.0</td>\n",
              "    </tr>\n",
              "  </tbody>\n",
              "</table>\n",
              "</div>"
            ],
            "text/plain": [
              "   False  True  negative  neutral  positive\n",
              "0    1.0   0.0       0.0      1.0       0.0\n",
              "1    1.0   0.0       0.0      1.0       0.0\n",
              "2    1.0   0.0       0.0      1.0       0.0\n",
              "3    1.0   0.0       0.0      1.0       0.0\n",
              "4    1.0   0.0       0.0      1.0       0.0"
            ]
          },
          "metadata": {
            "tags": []
          },
          "execution_count": 135
        }
      ]
    },
    {
      "cell_type": "code",
      "metadata": {
        "id": "PSw1wZgBLcaI"
      },
      "source": [
        "X_train = pd.concat([X_train, X_train_df, train], axis=1)\r\n",
        "X_test = pd.concat([X_test, X_test_df, test], axis=1)"
      ],
      "execution_count": 136,
      "outputs": []
    },
    {
      "cell_type": "code",
      "metadata": {
        "colab": {
          "base_uri": "https://localhost:8080/",
          "height": 251
        },
        "id": "y45aZhPLOiVs",
        "outputId": "4724e4fe-a108-4b8e-a4d1-7fa77f7ac230"
      },
      "source": [
        "X_train.head()"
      ],
      "execution_count": 137,
      "outputs": [
        {
          "output_type": "execute_result",
          "data": {
            "text/html": [
              "<div>\n",
              "<style scoped>\n",
              "    .dataframe tbody tr th:only-of-type {\n",
              "        vertical-align: middle;\n",
              "    }\n",
              "\n",
              "    .dataframe tbody tr th {\n",
              "        vertical-align: top;\n",
              "    }\n",
              "\n",
              "    .dataframe thead th {\n",
              "        text-align: right;\n",
              "    }\n",
              "</style>\n",
              "<table border=\"1\" class=\"dataframe\">\n",
              "  <thead>\n",
              "    <tr style=\"text-align: right;\">\n",
              "      <th></th>\n",
              "      <th>Gilded</th>\n",
              "      <th>Number_of_Comments</th>\n",
              "      <th>0</th>\n",
              "      <th>1</th>\n",
              "      <th>2</th>\n",
              "      <th>3</th>\n",
              "      <th>4</th>\n",
              "      <th>5</th>\n",
              "      <th>6</th>\n",
              "      <th>7</th>\n",
              "      <th>8</th>\n",
              "      <th>9</th>\n",
              "      <th>10</th>\n",
              "      <th>11</th>\n",
              "      <th>12</th>\n",
              "      <th>13</th>\n",
              "      <th>14</th>\n",
              "      <th>15</th>\n",
              "      <th>16</th>\n",
              "      <th>17</th>\n",
              "      <th>18</th>\n",
              "      <th>19</th>\n",
              "      <th>20</th>\n",
              "      <th>21</th>\n",
              "      <th>22</th>\n",
              "      <th>23</th>\n",
              "      <th>24</th>\n",
              "      <th>25</th>\n",
              "      <th>26</th>\n",
              "      <th>27</th>\n",
              "      <th>28</th>\n",
              "      <th>29</th>\n",
              "      <th>30</th>\n",
              "      <th>31</th>\n",
              "      <th>32</th>\n",
              "      <th>33</th>\n",
              "      <th>34</th>\n",
              "      <th>35</th>\n",
              "      <th>36</th>\n",
              "      <th>37</th>\n",
              "      <th>...</th>\n",
              "      <th>65</th>\n",
              "      <th>66</th>\n",
              "      <th>67</th>\n",
              "      <th>68</th>\n",
              "      <th>69</th>\n",
              "      <th>70</th>\n",
              "      <th>71</th>\n",
              "      <th>72</th>\n",
              "      <th>73</th>\n",
              "      <th>74</th>\n",
              "      <th>75</th>\n",
              "      <th>76</th>\n",
              "      <th>77</th>\n",
              "      <th>78</th>\n",
              "      <th>79</th>\n",
              "      <th>80</th>\n",
              "      <th>81</th>\n",
              "      <th>82</th>\n",
              "      <th>83</th>\n",
              "      <th>84</th>\n",
              "      <th>85</th>\n",
              "      <th>86</th>\n",
              "      <th>87</th>\n",
              "      <th>88</th>\n",
              "      <th>89</th>\n",
              "      <th>90</th>\n",
              "      <th>91</th>\n",
              "      <th>92</th>\n",
              "      <th>93</th>\n",
              "      <th>94</th>\n",
              "      <th>95</th>\n",
              "      <th>96</th>\n",
              "      <th>97</th>\n",
              "      <th>98</th>\n",
              "      <th>99</th>\n",
              "      <th>False</th>\n",
              "      <th>True</th>\n",
              "      <th>negative</th>\n",
              "      <th>neutral</th>\n",
              "      <th>positive</th>\n",
              "    </tr>\n",
              "  </thead>\n",
              "  <tbody>\n",
              "    <tr>\n",
              "      <th>0</th>\n",
              "      <td>0</td>\n",
              "      <td>39</td>\n",
              "      <td>-0.001442</td>\n",
              "      <td>0.002572</td>\n",
              "      <td>0.001396</td>\n",
              "      <td>-0.000855</td>\n",
              "      <td>0.001007</td>\n",
              "      <td>-0.000152</td>\n",
              "      <td>-0.000654</td>\n",
              "      <td>-0.000342</td>\n",
              "      <td>0.000799</td>\n",
              "      <td>-0.002514</td>\n",
              "      <td>-0.001796</td>\n",
              "      <td>0.000149</td>\n",
              "      <td>0.004344</td>\n",
              "      <td>0.000058</td>\n",
              "      <td>0.002888</td>\n",
              "      <td>-0.000628</td>\n",
              "      <td>-0.001018</td>\n",
              "      <td>0.000273</td>\n",
              "      <td>0.001533</td>\n",
              "      <td>0.002309</td>\n",
              "      <td>0.003437</td>\n",
              "      <td>0.001069</td>\n",
              "      <td>-0.000544</td>\n",
              "      <td>-0.000029</td>\n",
              "      <td>0.001838</td>\n",
              "      <td>-0.001242</td>\n",
              "      <td>-0.001644</td>\n",
              "      <td>-0.001304</td>\n",
              "      <td>0.000287</td>\n",
              "      <td>0.000121</td>\n",
              "      <td>0.003186</td>\n",
              "      <td>-0.001177</td>\n",
              "      <td>-0.000711</td>\n",
              "      <td>0.001419</td>\n",
              "      <td>0.003261</td>\n",
              "      <td>0.000331</td>\n",
              "      <td>-0.000243</td>\n",
              "      <td>-0.001107</td>\n",
              "      <td>...</td>\n",
              "      <td>0.003832</td>\n",
              "      <td>0.004244</td>\n",
              "      <td>-0.001411</td>\n",
              "      <td>0.001332</td>\n",
              "      <td>0.000647</td>\n",
              "      <td>0.000923</td>\n",
              "      <td>-0.003411</td>\n",
              "      <td>-0.001714</td>\n",
              "      <td>-0.001157</td>\n",
              "      <td>0.000289</td>\n",
              "      <td>-0.002904</td>\n",
              "      <td>0.001654</td>\n",
              "      <td>0.001972</td>\n",
              "      <td>-0.004411</td>\n",
              "      <td>0.000266</td>\n",
              "      <td>0.003280</td>\n",
              "      <td>-0.001016</td>\n",
              "      <td>-0.001442</td>\n",
              "      <td>-0.002754</td>\n",
              "      <td>-0.009053</td>\n",
              "      <td>-0.005863</td>\n",
              "      <td>-0.000298</td>\n",
              "      <td>-0.002147</td>\n",
              "      <td>0.000307</td>\n",
              "      <td>-0.003503</td>\n",
              "      <td>0.001274</td>\n",
              "      <td>-0.002454</td>\n",
              "      <td>-0.000896</td>\n",
              "      <td>-0.000431</td>\n",
              "      <td>-0.003577</td>\n",
              "      <td>-0.000712</td>\n",
              "      <td>-0.002249</td>\n",
              "      <td>-0.002615</td>\n",
              "      <td>0.003140</td>\n",
              "      <td>0.001254</td>\n",
              "      <td>1.0</td>\n",
              "      <td>0.0</td>\n",
              "      <td>0.0</td>\n",
              "      <td>1.0</td>\n",
              "      <td>0.0</td>\n",
              "    </tr>\n",
              "    <tr>\n",
              "      <th>1</th>\n",
              "      <td>0</td>\n",
              "      <td>25</td>\n",
              "      <td>0.001152</td>\n",
              "      <td>-0.000055</td>\n",
              "      <td>0.000286</td>\n",
              "      <td>-0.002464</td>\n",
              "      <td>-0.001223</td>\n",
              "      <td>0.001911</td>\n",
              "      <td>0.000202</td>\n",
              "      <td>0.001630</td>\n",
              "      <td>0.001593</td>\n",
              "      <td>-0.001790</td>\n",
              "      <td>-0.000927</td>\n",
              "      <td>-0.000070</td>\n",
              "      <td>0.002760</td>\n",
              "      <td>0.005914</td>\n",
              "      <td>0.002542</td>\n",
              "      <td>0.002074</td>\n",
              "      <td>-0.001778</td>\n",
              "      <td>0.000789</td>\n",
              "      <td>0.003108</td>\n",
              "      <td>0.001323</td>\n",
              "      <td>-0.000030</td>\n",
              "      <td>0.000412</td>\n",
              "      <td>-0.005082</td>\n",
              "      <td>-0.000129</td>\n",
              "      <td>0.009926</td>\n",
              "      <td>0.004685</td>\n",
              "      <td>-0.003142</td>\n",
              "      <td>-0.000973</td>\n",
              "      <td>0.007245</td>\n",
              "      <td>-0.002394</td>\n",
              "      <td>0.001977</td>\n",
              "      <td>0.004322</td>\n",
              "      <td>0.005463</td>\n",
              "      <td>0.002817</td>\n",
              "      <td>-0.000317</td>\n",
              "      <td>0.000195</td>\n",
              "      <td>0.000675</td>\n",
              "      <td>-0.000570</td>\n",
              "      <td>...</td>\n",
              "      <td>-0.000374</td>\n",
              "      <td>0.002152</td>\n",
              "      <td>0.000168</td>\n",
              "      <td>-0.000879</td>\n",
              "      <td>-0.002507</td>\n",
              "      <td>-0.002335</td>\n",
              "      <td>0.000090</td>\n",
              "      <td>0.001730</td>\n",
              "      <td>-0.000831</td>\n",
              "      <td>-0.000963</td>\n",
              "      <td>-0.000786</td>\n",
              "      <td>-0.003303</td>\n",
              "      <td>0.002347</td>\n",
              "      <td>0.001552</td>\n",
              "      <td>0.000040</td>\n",
              "      <td>-0.000638</td>\n",
              "      <td>0.000891</td>\n",
              "      <td>0.001120</td>\n",
              "      <td>0.001272</td>\n",
              "      <td>-0.005514</td>\n",
              "      <td>-0.001737</td>\n",
              "      <td>0.001396</td>\n",
              "      <td>0.002255</td>\n",
              "      <td>-0.000374</td>\n",
              "      <td>0.003300</td>\n",
              "      <td>-0.000205</td>\n",
              "      <td>-0.000076</td>\n",
              "      <td>-0.000068</td>\n",
              "      <td>0.002739</td>\n",
              "      <td>0.001856</td>\n",
              "      <td>0.001418</td>\n",
              "      <td>-0.003537</td>\n",
              "      <td>0.001183</td>\n",
              "      <td>0.001878</td>\n",
              "      <td>0.000346</td>\n",
              "      <td>1.0</td>\n",
              "      <td>0.0</td>\n",
              "      <td>0.0</td>\n",
              "      <td>1.0</td>\n",
              "      <td>0.0</td>\n",
              "    </tr>\n",
              "    <tr>\n",
              "      <th>2</th>\n",
              "      <td>0</td>\n",
              "      <td>32</td>\n",
              "      <td>0.001058</td>\n",
              "      <td>0.002922</td>\n",
              "      <td>-0.000213</td>\n",
              "      <td>-0.002265</td>\n",
              "      <td>-0.002557</td>\n",
              "      <td>0.003873</td>\n",
              "      <td>-0.000871</td>\n",
              "      <td>0.001327</td>\n",
              "      <td>-0.004929</td>\n",
              "      <td>0.003158</td>\n",
              "      <td>0.002672</td>\n",
              "      <td>0.000358</td>\n",
              "      <td>-0.002374</td>\n",
              "      <td>0.004117</td>\n",
              "      <td>-0.001034</td>\n",
              "      <td>0.000669</td>\n",
              "      <td>0.001088</td>\n",
              "      <td>-0.003424</td>\n",
              "      <td>0.000294</td>\n",
              "      <td>0.002256</td>\n",
              "      <td>0.000198</td>\n",
              "      <td>0.002201</td>\n",
              "      <td>-0.002456</td>\n",
              "      <td>0.000588</td>\n",
              "      <td>0.002622</td>\n",
              "      <td>0.002554</td>\n",
              "      <td>-0.002652</td>\n",
              "      <td>-0.000251</td>\n",
              "      <td>-0.002618</td>\n",
              "      <td>0.000373</td>\n",
              "      <td>0.002589</td>\n",
              "      <td>0.004451</td>\n",
              "      <td>-0.002851</td>\n",
              "      <td>0.000735</td>\n",
              "      <td>0.000821</td>\n",
              "      <td>0.003574</td>\n",
              "      <td>-0.000632</td>\n",
              "      <td>0.000665</td>\n",
              "      <td>...</td>\n",
              "      <td>-0.000024</td>\n",
              "      <td>0.003853</td>\n",
              "      <td>0.000752</td>\n",
              "      <td>0.000699</td>\n",
              "      <td>0.000972</td>\n",
              "      <td>-0.000039</td>\n",
              "      <td>0.000154</td>\n",
              "      <td>0.002223</td>\n",
              "      <td>0.000663</td>\n",
              "      <td>0.003008</td>\n",
              "      <td>-0.000383</td>\n",
              "      <td>-0.001463</td>\n",
              "      <td>-0.000419</td>\n",
              "      <td>-0.000994</td>\n",
              "      <td>-0.001060</td>\n",
              "      <td>0.005584</td>\n",
              "      <td>-0.004343</td>\n",
              "      <td>0.000123</td>\n",
              "      <td>-0.005201</td>\n",
              "      <td>-0.002135</td>\n",
              "      <td>0.002429</td>\n",
              "      <td>-0.001983</td>\n",
              "      <td>-0.003800</td>\n",
              "      <td>0.001324</td>\n",
              "      <td>0.000682</td>\n",
              "      <td>-0.000196</td>\n",
              "      <td>-0.001794</td>\n",
              "      <td>0.000896</td>\n",
              "      <td>-0.003757</td>\n",
              "      <td>-0.000507</td>\n",
              "      <td>-0.001019</td>\n",
              "      <td>-0.000696</td>\n",
              "      <td>-0.001129</td>\n",
              "      <td>0.000829</td>\n",
              "      <td>0.000500</td>\n",
              "      <td>1.0</td>\n",
              "      <td>0.0</td>\n",
              "      <td>0.0</td>\n",
              "      <td>1.0</td>\n",
              "      <td>0.0</td>\n",
              "    </tr>\n",
              "    <tr>\n",
              "      <th>3</th>\n",
              "      <td>0</td>\n",
              "      <td>46</td>\n",
              "      <td>0.002586</td>\n",
              "      <td>-0.002090</td>\n",
              "      <td>-0.000494</td>\n",
              "      <td>-0.000723</td>\n",
              "      <td>0.000721</td>\n",
              "      <td>-0.000667</td>\n",
              "      <td>0.000564</td>\n",
              "      <td>-0.002557</td>\n",
              "      <td>0.004949</td>\n",
              "      <td>-0.006141</td>\n",
              "      <td>0.001817</td>\n",
              "      <td>0.005486</td>\n",
              "      <td>-0.002309</td>\n",
              "      <td>-0.003773</td>\n",
              "      <td>0.002510</td>\n",
              "      <td>-0.006349</td>\n",
              "      <td>0.001289</td>\n",
              "      <td>-0.003406</td>\n",
              "      <td>-0.004589</td>\n",
              "      <td>-0.001085</td>\n",
              "      <td>0.001606</td>\n",
              "      <td>0.003017</td>\n",
              "      <td>-0.003863</td>\n",
              "      <td>0.005617</td>\n",
              "      <td>-0.000793</td>\n",
              "      <td>-0.001102</td>\n",
              "      <td>0.000576</td>\n",
              "      <td>-0.002225</td>\n",
              "      <td>0.003030</td>\n",
              "      <td>-0.001523</td>\n",
              "      <td>-0.002886</td>\n",
              "      <td>0.005291</td>\n",
              "      <td>-0.002822</td>\n",
              "      <td>0.002866</td>\n",
              "      <td>0.001827</td>\n",
              "      <td>-0.000533</td>\n",
              "      <td>-0.002735</td>\n",
              "      <td>0.001282</td>\n",
              "      <td>...</td>\n",
              "      <td>0.002163</td>\n",
              "      <td>0.004352</td>\n",
              "      <td>-0.000555</td>\n",
              "      <td>0.001888</td>\n",
              "      <td>-0.003806</td>\n",
              "      <td>0.002032</td>\n",
              "      <td>-0.004048</td>\n",
              "      <td>-0.004106</td>\n",
              "      <td>-0.006275</td>\n",
              "      <td>-0.002760</td>\n",
              "      <td>0.001775</td>\n",
              "      <td>0.000121</td>\n",
              "      <td>-0.001698</td>\n",
              "      <td>-0.004419</td>\n",
              "      <td>-0.003410</td>\n",
              "      <td>0.006606</td>\n",
              "      <td>-0.003119</td>\n",
              "      <td>-0.000067</td>\n",
              "      <td>-0.001392</td>\n",
              "      <td>-0.009955</td>\n",
              "      <td>0.003875</td>\n",
              "      <td>-0.002600</td>\n",
              "      <td>-0.001378</td>\n",
              "      <td>-0.001347</td>\n",
              "      <td>-0.000579</td>\n",
              "      <td>0.005433</td>\n",
              "      <td>0.005295</td>\n",
              "      <td>0.003561</td>\n",
              "      <td>0.009520</td>\n",
              "      <td>-0.000654</td>\n",
              "      <td>-0.000201</td>\n",
              "      <td>0.000349</td>\n",
              "      <td>-0.004536</td>\n",
              "      <td>-0.000481</td>\n",
              "      <td>0.002201</td>\n",
              "      <td>1.0</td>\n",
              "      <td>0.0</td>\n",
              "      <td>0.0</td>\n",
              "      <td>1.0</td>\n",
              "      <td>0.0</td>\n",
              "    </tr>\n",
              "    <tr>\n",
              "      <th>4</th>\n",
              "      <td>1</td>\n",
              "      <td>74</td>\n",
              "      <td>0.002095</td>\n",
              "      <td>-0.001389</td>\n",
              "      <td>0.002128</td>\n",
              "      <td>0.000576</td>\n",
              "      <td>-0.000136</td>\n",
              "      <td>0.003090</td>\n",
              "      <td>0.001196</td>\n",
              "      <td>0.000207</td>\n",
              "      <td>-0.003432</td>\n",
              "      <td>-0.002451</td>\n",
              "      <td>0.001173</td>\n",
              "      <td>-0.000225</td>\n",
              "      <td>-0.002000</td>\n",
              "      <td>0.004050</td>\n",
              "      <td>0.003206</td>\n",
              "      <td>-0.000789</td>\n",
              "      <td>-0.004403</td>\n",
              "      <td>-0.001892</td>\n",
              "      <td>-0.003310</td>\n",
              "      <td>0.000135</td>\n",
              "      <td>0.005087</td>\n",
              "      <td>0.000371</td>\n",
              "      <td>-0.002490</td>\n",
              "      <td>0.000266</td>\n",
              "      <td>0.002875</td>\n",
              "      <td>0.008118</td>\n",
              "      <td>0.000994</td>\n",
              "      <td>-0.000345</td>\n",
              "      <td>0.001632</td>\n",
              "      <td>-0.002089</td>\n",
              "      <td>0.003973</td>\n",
              "      <td>0.006256</td>\n",
              "      <td>0.003019</td>\n",
              "      <td>-0.000028</td>\n",
              "      <td>0.001693</td>\n",
              "      <td>-0.000426</td>\n",
              "      <td>0.001638</td>\n",
              "      <td>-0.001947</td>\n",
              "      <td>...</td>\n",
              "      <td>0.000099</td>\n",
              "      <td>0.002910</td>\n",
              "      <td>0.002968</td>\n",
              "      <td>-0.001254</td>\n",
              "      <td>-0.003910</td>\n",
              "      <td>-0.002701</td>\n",
              "      <td>-0.000285</td>\n",
              "      <td>0.001452</td>\n",
              "      <td>-0.004989</td>\n",
              "      <td>0.004137</td>\n",
              "      <td>0.001980</td>\n",
              "      <td>-0.002116</td>\n",
              "      <td>-0.003051</td>\n",
              "      <td>-0.003008</td>\n",
              "      <td>0.001575</td>\n",
              "      <td>0.003356</td>\n",
              "      <td>-0.001350</td>\n",
              "      <td>-0.003678</td>\n",
              "      <td>-0.002062</td>\n",
              "      <td>-0.010014</td>\n",
              "      <td>-0.001772</td>\n",
              "      <td>-0.002111</td>\n",
              "      <td>-0.002755</td>\n",
              "      <td>0.000406</td>\n",
              "      <td>0.003798</td>\n",
              "      <td>-0.000424</td>\n",
              "      <td>0.001249</td>\n",
              "      <td>-0.000580</td>\n",
              "      <td>0.003762</td>\n",
              "      <td>0.005452</td>\n",
              "      <td>0.004116</td>\n",
              "      <td>-0.000643</td>\n",
              "      <td>0.000204</td>\n",
              "      <td>0.003167</td>\n",
              "      <td>-0.000351</td>\n",
              "      <td>1.0</td>\n",
              "      <td>0.0</td>\n",
              "      <td>0.0</td>\n",
              "      <td>1.0</td>\n",
              "      <td>0.0</td>\n",
              "    </tr>\n",
              "  </tbody>\n",
              "</table>\n",
              "<p>5 rows × 107 columns</p>\n",
              "</div>"
            ],
            "text/plain": [
              "   Gilded  Number_of_Comments         0  ...  negative  neutral  positive\n",
              "0       0                  39 -0.001442  ...       0.0      1.0       0.0\n",
              "1       0                  25  0.001152  ...       0.0      1.0       0.0\n",
              "2       0                  32  0.001058  ...       0.0      1.0       0.0\n",
              "3       0                  46  0.002586  ...       0.0      1.0       0.0\n",
              "4       1                  74  0.002095  ...       0.0      1.0       0.0\n",
              "\n",
              "[5 rows x 107 columns]"
            ]
          },
          "metadata": {
            "tags": []
          },
          "execution_count": 137
        }
      ]
    },
    {
      "cell_type": "code",
      "metadata": {
        "id": "00QRjSdaVAtB"
      },
      "source": [
        "from sklearn.linear_model import LinearRegression\r\n",
        "from sklearn.metrics import mean_squared_error, accuracy_score, r2_score, mean_absolute_error\r\n",
        "from sklearn.tree import DecisionTreeRegressor\r\n",
        "from sklearn.ensemble import RandomForestRegressor\r\n",
        "from sklearn.neighbors import KNeighborsRegressor\r\n",
        "import xgboost as xgb\r\n",
        "from sklearn import metrics"
      ],
      "execution_count": 138,
      "outputs": []
    },
    {
      "cell_type": "code",
      "metadata": {
        "colab": {
          "base_uri": "https://localhost:8080/"
        },
        "id": "6-3yec1JL8Tw",
        "outputId": "8d2adb80-9a80-4750-b5db-2a47125ef2ca"
      },
      "source": [
        "lm=LinearRegression()   \r\n",
        "lm = lm.fit(X_train,y_train)\r\n",
        "\r\n",
        "#Traindata Predictions\r\n",
        "train_pred = lm.predict(X_train)\r\n",
        "\r\n",
        "#testdata predictions\r\n",
        "test_pred = lm.predict(X_test)\r\n",
        "\r\n",
        "\r\n",
        "RMSE_test = np.sqrt(mean_squared_error(y_test, test_pred))\r\n",
        "RMSE_train= np.sqrt(mean_squared_error(y_train,train_pred))\r\n",
        "print(\"RMSE TrainingData = \",str(RMSE_train))\r\n",
        "print(\"RMSE TestData = \",str(RMSE_test))\r\n",
        "print('-'*50)\r\n",
        "print('RSquared value on train:',lm.score(X_train, y_train))\r\n",
        "print('RSquared value on test:',lm.score(X_test, y_test))"
      ],
      "execution_count": 139,
      "outputs": [
        {
          "output_type": "stream",
          "text": [
            "RMSE TrainingData =  7869.979472326438\n",
            "RMSE TestData =  8948.74957123513\n",
            "--------------------------------------------------\n",
            "RSquared value on train: 0.2771574493592297\n",
            "RSquared value on test: 0.07858682970448438\n"
          ],
          "name": "stdout"
        }
      ]
    },
    {
      "cell_type": "code",
      "metadata": {
        "colab": {
          "base_uri": "https://localhost:8080/"
        },
        "id": "6vDeq1jkL15F",
        "outputId": "f2849c1b-3e0d-4326-c6a5-bf7e0f422cea"
      },
      "source": [
        "DT=DecisionTreeRegressor()\r\n",
        "DT.fit(X_train,y_train)"
      ],
      "execution_count": 140,
      "outputs": [
        {
          "output_type": "execute_result",
          "data": {
            "text/plain": [
              "DecisionTreeRegressor(ccp_alpha=0.0, criterion='mse', max_depth=None,\n",
              "                      max_features=None, max_leaf_nodes=None,\n",
              "                      min_impurity_decrease=0.0, min_impurity_split=None,\n",
              "                      min_samples_leaf=1, min_samples_split=2,\n",
              "                      min_weight_fraction_leaf=0.0, presort='deprecated',\n",
              "                      random_state=None, splitter='best')"
            ]
          },
          "metadata": {
            "tags": []
          },
          "execution_count": 140
        }
      ]
    },
    {
      "cell_type": "code",
      "metadata": {
        "id": "l6QG50eSMaYU"
      },
      "source": [
        "#predicting train\r\n",
        "train_preds=DT.predict(X_train)\r\n",
        "#predicting on test\r\n",
        "test_preds=DT.predict(X_test)"
      ],
      "execution_count": 141,
      "outputs": []
    },
    {
      "cell_type": "code",
      "metadata": {
        "colab": {
          "base_uri": "https://localhost:8080/"
        },
        "id": "nEfkUJs8MdhB",
        "outputId": "ba42bb72-f758-4ead-ef24-99abf432a4e0"
      },
      "source": [
        "RMSE_train=(np.sqrt(metrics.mean_squared_error(y_train,train_preds)))\r\n",
        "RMSE_test=(np.sqrt(metrics.mean_squared_error(y_test,test_preds)))\r\n",
        "print(\"RMSE TrainingData = \",str(RMSE_train))\r\n",
        "print(\"RMSE TestData = \",str(RMSE_test))\r\n",
        "print('-'*50)\r\n",
        "print('RSquared value on train:',DT.score(X_train, y_train))\r\n",
        "print('RSquared value on test:',DT.score(X_test, y_test))"
      ],
      "execution_count": 142,
      "outputs": [
        {
          "output_type": "stream",
          "text": [
            "RMSE TrainingData =  497.8744612234056\n",
            "RMSE TestData =  9950.356640873139\n",
            "--------------------------------------------------\n",
            "RSquared value on train: 0.9971070814288798\n",
            "RSquared value on test: -0.13921842507236204\n"
          ],
          "name": "stdout"
        }
      ]
    },
    {
      "cell_type": "code",
      "metadata": {
        "colab": {
          "base_uri": "https://localhost:8080/"
        },
        "id": "75jGUB_XMiZg",
        "outputId": "94b37d0f-71cc-455f-b18a-c3d160831859"
      },
      "source": [
        "RF=RandomForestRegressor(n_jobs=-1)\r\n",
        "RF.fit(X_train,y_train)\r\n",
        "\r\n",
        "#predicting train\r\n",
        "train_preds1=RF.predict(X_train)\r\n",
        "#predicting on test\r\n",
        "test_preds1=RF.predict(X_test)\r\n",
        "\r\n",
        "RMSE_train=(np.sqrt(metrics.mean_squared_error(y_train,train_preds1)))\r\n",
        "RMSE_test=(np.sqrt(metrics.mean_squared_error(y_test,test_preds1)))\r\n",
        "print(\"RMSE TrainingData = \",str(RMSE_train))\r\n",
        "print(\"RMSE TestData = \",str(RMSE_test))\r\n",
        "print('-'*50)\r\n",
        "print('RSquared value on train:',RF.score(X_train, y_train))\r\n",
        "print('RSquared value on test:',RF.score(X_test, y_test))"
      ],
      "execution_count": 143,
      "outputs": [
        {
          "output_type": "stream",
          "text": [
            "RMSE TrainingData =  2584.2517693774957\n",
            "RMSE TestData =  6865.266062991941\n",
            "--------------------------------------------------\n",
            "RSquared value on train: 0.9220589674147153\n",
            "RSquared value on test: 0.45769394652236606\n"
          ],
          "name": "stdout"
        }
      ]
    },
    {
      "cell_type": "code",
      "metadata": {
        "id": "pi0Z4TR_OQCF"
      },
      "source": [
        "RF=RandomForestRegressor(n_jobs=-1)\r\n",
        "RF.fit(X_train,y_train)\r\n",
        "\r\n",
        "pickle.dump(RF, open('rf.pkl','wb'))"
      ],
      "execution_count": 144,
      "outputs": []
    },
    {
      "cell_type": "code",
      "metadata": {
        "colab": {
          "base_uri": "https://localhost:8080/"
        },
        "id": "dljkqiBnMtlO",
        "outputId": "14831a27-4d61-494f-d96f-607680d29f8f"
      },
      "source": [
        "knn=KNeighborsRegressor()\r\n",
        "knn.fit(X_train,y_train)\r\n",
        "\r\n",
        "#predicting train\r\n",
        "train_preds2=knn.predict(X_train)\r\n",
        "#predicting on test\r\n",
        "test_preds2=knn.predict(X_test)\r\n",
        "\r\n",
        "RMSE_train=(np.sqrt(metrics.mean_squared_error(y_train,train_preds2)))\r\n",
        "RMSE_test=(np.sqrt(metrics.mean_squared_error(y_test,test_preds2)))\r\n",
        "print(\"RMSE TrainingData = \",str(RMSE_train))\r\n",
        "print(\"RMSE TestData = \",str(RMSE_test))\r\n",
        "print('-'*50)\r\n",
        "print('RSquared value on train:',knn.score(X_train, y_train))\r\n",
        "print('RSquared value on test:',knn.score(X_test, y_test))"
      ],
      "execution_count": 145,
      "outputs": [
        {
          "output_type": "stream",
          "text": [
            "RMSE TrainingData =  6042.175764031128\n",
            "RMSE TestData =  7451.644931659574\n",
            "--------------------------------------------------\n",
            "RSquared value on train: 0.5739277793990758\n",
            "RSquared value on test: 0.36109834692091725\n"
          ],
          "name": "stdout"
        }
      ]
    },
    {
      "cell_type": "code",
      "metadata": {
        "id": "o3MrZDxSNuXn"
      },
      "source": [
        "from sklearn.linear_model import LassoCV\r\n",
        "from sklearn.linear_model import RidgeCV\r\n",
        "from sklearn.linear_model import ElasticNetCV\r\n",
        "from sklearn.ensemble import GradientBoostingRegressor"
      ],
      "execution_count": 146,
      "outputs": []
    },
    {
      "cell_type": "code",
      "metadata": {
        "colab": {
          "base_uri": "https://localhost:8080/"
        },
        "id": "65cOItTjjz8u",
        "outputId": "01916ed4-6022-44e5-f6ea-17bc30ac0a8c"
      },
      "source": [
        "lasso = LassoCV(cv=10).fit(X_train, y_train)\r\n",
        "\r\n",
        "\r\n",
        "#predicting train\r\n",
        "train_preds3=lasso.predict(X_train)\r\n",
        "#predicting on test\r\n",
        "test_preds3=lasso.predict(X_test)\r\n",
        "\r\n",
        "RMSE_train=(np.sqrt(metrics.mean_squared_error(y_train,train_preds3)))\r\n",
        "RMSE_test=(np.sqrt(metrics.mean_squared_error(y_test,test_preds3)))\r\n",
        "print(\"RMSE TrainingData = \",str(RMSE_train))\r\n",
        "print(\"RMSE TestData = \",str(RMSE_test))\r\n",
        "print('-'*50)\r\n",
        "print('RSquared value on train:',lasso.score(X_train, y_train))\r\n",
        "print('RSquared value on test:',lasso.score(X_test, y_test))"
      ],
      "execution_count": 147,
      "outputs": [
        {
          "output_type": "stream",
          "text": [
            "RMSE TrainingData =  8034.932006086684\n",
            "RMSE TestData =  9049.800344322846\n",
            "--------------------------------------------------\n",
            "RSquared value on train: 0.24653874864045822\n",
            "RSquared value on test: 0.05765983503903849\n"
          ],
          "name": "stdout"
        }
      ]
    },
    {
      "cell_type": "code",
      "metadata": {
        "colab": {
          "base_uri": "https://localhost:8080/"
        },
        "id": "9EKyaYHsj92x",
        "outputId": "b1ce9912-c0a2-49e8-d737-abb3f3e6f7aa"
      },
      "source": [
        "ridge = RidgeCV(cv=10).fit(X_train, y_train)\r\n",
        "#predicting train\r\n",
        "train_preds4=ridge.predict(X_train)\r\n",
        "#predicting on test\r\n",
        "test_preds4=ridge.predict(X_test)\r\n",
        "\r\n",
        "RMSE_train=(np.sqrt(metrics.mean_squared_error(y_train,train_preds4)))\r\n",
        "RMSE_test=(np.sqrt(metrics.mean_squared_error(y_test,test_preds4)))\r\n",
        "print(\"RMSE TrainingData = \",str(RMSE_train))\r\n",
        "print(\"RMSE TestData = \",str(RMSE_test))\r\n",
        "print('-'*50)\r\n",
        "print('RSquared value on train:',ridge.score(X_train, y_train))\r\n",
        "print('RSquared value on test:',ridge.score(X_test, y_test))\r\n"
      ],
      "execution_count": 148,
      "outputs": [
        {
          "output_type": "stream",
          "text": [
            "RMSE TrainingData =  7889.842912421455\n",
            "RMSE TestData =  8939.214392384392\n",
            "--------------------------------------------------\n",
            "RSquared value on train: 0.27350400671135056\n",
            "RSquared value on test: 0.08054937397011164\n"
          ],
          "name": "stdout"
        }
      ]
    },
    {
      "cell_type": "code",
      "metadata": {
        "colab": {
          "base_uri": "https://localhost:8080/"
        },
        "id": "PIrf-Wp9k07f",
        "outputId": "61317429-e818-4bf1-cf2c-0befabd32a70"
      },
      "source": [
        "elastic_net = ElasticNetCV(cv = 10).fit(X_train, y_train)\r\n",
        "#predicting train\r\n",
        "train_preds5=elastic_net.predict(X_train)\r\n",
        "#predicting on test\r\n",
        "test_preds5=elastic_net.predict(X_test)\r\n",
        "\r\n",
        "RMSE_train=(np.sqrt(metrics.mean_squared_error(y_train,train_preds5)))\r\n",
        "RMSE_test=(np.sqrt(metrics.mean_squared_error(y_test,test_preds5)))\r\n",
        "print(\"RMSE TrainingData = \",str(RMSE_train))\r\n",
        "print(\"RMSE TestData = \",str(RMSE_test))\r\n",
        "print('-'*50)\r\n",
        "print('RSquared value on train:',elastic_net.score(X_train, y_train))\r\n",
        "print('RSquared value on test:',elastic_net.score(X_test, y_test))"
      ],
      "execution_count": 149,
      "outputs": [
        {
          "output_type": "stream",
          "text": [
            "RMSE TrainingData =  8042.3260607591355\n",
            "RMSE TestData =  9002.04898892087\n",
            "--------------------------------------------------\n",
            "RSquared value on train: 0.2451513823085296\n",
            "RSquared value on test: 0.06757813205862173\n"
          ],
          "name": "stdout"
        }
      ]
    },
    {
      "cell_type": "code",
      "metadata": {
        "colab": {
          "base_uri": "https://localhost:8080/"
        },
        "id": "oq38GaC3mSzQ",
        "outputId": "6b39068d-3079-4955-b9d0-458c577fe28d"
      },
      "source": [
        "xgbr =xgb.XGBRegressor().fit(X_train, y_train)\r\n",
        "#predicting train\r\n",
        "train_preds6=xgbr.predict(X_train)\r\n",
        "#predicting on test\r\n",
        "test_preds6=xgbr.predict(X_test)\r\n",
        "\r\n",
        "RMSE_train=(np.sqrt(metrics.mean_squared_error(y_train,train_preds6)))\r\n",
        "RMSE_test=(np.sqrt(metrics.mean_squared_error(y_test,test_preds6)))\r\n",
        "print(\"RMSE TrainingData = \",str(RMSE_train))\r\n",
        "print(\"RMSE TestData = \",str(RMSE_test))\r\n",
        "print('-'*50)\r\n",
        "print('RSquared value on train:',xgbr.score(X_train, y_train))\r\n",
        "print('RSquared value on test:',xgbr.score(X_test, y_test))"
      ],
      "execution_count": 150,
      "outputs": [
        {
          "output_type": "stream",
          "text": [
            "[17:25:51] WARNING: /workspace/src/objective/regression_obj.cu:152: reg:linear is now deprecated in favor of reg:squarederror.\n",
            "RMSE TrainingData =  4977.608783561732\n",
            "RMSE TestData =  6559.128029755439\n",
            "--------------------------------------------------\n",
            "RSquared value on train: 0.7108401233491087\n",
            "RSquared value on test: 0.5049809383493384\n"
          ],
          "name": "stdout"
        }
      ]
    },
    {
      "cell_type": "code",
      "metadata": {
        "id": "o8985qHJriUh"
      },
      "source": [
        ""
      ],
      "execution_count": null,
      "outputs": []
    }
  ]
}