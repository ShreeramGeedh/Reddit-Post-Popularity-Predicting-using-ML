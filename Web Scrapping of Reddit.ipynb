{
 "cells": [
  {
   "cell_type": "code",
   "execution_count": 1,
   "metadata": {},
   "outputs": [],
   "source": [
    "import praw\n",
    "import pandas as pd"
   ]
  },
  {
   "cell_type": "code",
   "execution_count": 8,
   "metadata": {},
   "outputs": [],
   "source": [
    "reddit = praw.Reddit(client_id='your_client_id',\n",
    "                   client_secret='your_client_secret', \n",
    "                   user_agent='user_agent')"
   ]
  },
  {
   "cell_type": "code",
   "execution_count": 9,
   "metadata": {},
   "outputs": [],
   "source": [
    "subreddit = reddit.subreddit('Popular')"
   ]
  },
  {
   "cell_type": "code",
   "execution_count": 10,
   "metadata": {},
   "outputs": [],
   "source": [
    "hot_python = subreddit.hot(limit=10000)"
   ]
  },
  {
   "cell_type": "code",
   "execution_count": 11,
   "metadata": {},
   "outputs": [],
   "source": [
    "Title = []\n",
    "Ups = []\n",
    "Downs = []\n",
    "Upvote_ratio = []\n",
    "Score = []\n",
    "Gilded =[]\n",
    "Over_18 = []\n",
    "Number_of_Comments = []\n",
    "count = 0\n",
    "for submission in hot_python:\n",
    "    if not submission.stickied:\n",
    "        title = submission.title\n",
    "        Title.append(title)\n",
    "        \n",
    "        ups = submission.ups\n",
    "        Ups.append(ups)\n",
    "        \n",
    "        downs = submission.downs\n",
    "        Downs.append(downs)\n",
    "        \n",
    "        upvoteratio = submission.upvote_ratio\n",
    "        Upvote_ratio.append(upvoteratio)\n",
    "        \n",
    "        score = submission.score\n",
    "        Score.append(score)\n",
    "        \n",
    "        gilded = submission.gilded\n",
    "        Gilded.append(gilded)\n",
    "        \n",
    "        over_18 = submission.over_18\n",
    "        Over_18.append(over_18)\n",
    "        \n",
    "        numberofcomments = submission.num_comments\n",
    "        Number_of_Comments.append(numberofcomments)"
   ]
  },
  {
   "cell_type": "code",
   "execution_count": 12,
   "metadata": {},
   "outputs": [
    {
     "data": {
      "text/plain": [
       "['No good work goes unpunished',\n",
       " 'Redditors whose job requires them to go into other people’s homes for a living, what’s the most bizarre thing you’ve seen or found?',\n",
       " \"TIL Honeybee venom rapidly kills aggressive breast cancer cells and when the venom's main component is combined with existing chemotherapy drugs, it is extremely efficient at reducing tumour growth in mice\"]"
      ]
     },
     "execution_count": 12,
     "metadata": {},
     "output_type": "execute_result"
    }
   ],
   "source": [
    "Title[:3]"
   ]
  },
  {
   "cell_type": "code",
   "execution_count": 13,
   "metadata": {},
   "outputs": [
    {
     "data": {
      "text/plain": [
       "[36797, 43779, 34117]"
      ]
     },
     "execution_count": 13,
     "metadata": {},
     "output_type": "execute_result"
    }
   ],
   "source": [
    "Ups[:3]"
   ]
  },
  {
   "cell_type": "code",
   "execution_count": 14,
   "metadata": {},
   "outputs": [
    {
     "data": {
      "text/plain": [
       "[0, 0, 0]"
      ]
     },
     "execution_count": 14,
     "metadata": {},
     "output_type": "execute_result"
    }
   ],
   "source": [
    "Downs[:3]"
   ]
  },
  {
   "cell_type": "code",
   "execution_count": 15,
   "metadata": {},
   "outputs": [
    {
     "data": {
      "text/plain": [
       "[0.95, 0.91, 0.93]"
      ]
     },
     "execution_count": 15,
     "metadata": {},
     "output_type": "execute_result"
    }
   ],
   "source": [
    "Upvote_ratio[:3]"
   ]
  },
  {
   "cell_type": "code",
   "execution_count": 16,
   "metadata": {},
   "outputs": [
    {
     "data": {
      "text/plain": [
       "[36797, 43779, 34117]"
      ]
     },
     "execution_count": 16,
     "metadata": {},
     "output_type": "execute_result"
    }
   ],
   "source": [
    "Score[:3]"
   ]
  },
  {
   "cell_type": "code",
   "execution_count": 17,
   "metadata": {},
   "outputs": [
    {
     "data": {
      "text/plain": [
       "[0, 0, 1]"
      ]
     },
     "execution_count": 17,
     "metadata": {},
     "output_type": "execute_result"
    }
   ],
   "source": [
    "Gilded[:3]"
   ]
  },
  {
   "cell_type": "code",
   "execution_count": 18,
   "metadata": {},
   "outputs": [
    {
     "data": {
      "text/plain": [
       "[False, False, False]"
      ]
     },
     "execution_count": 18,
     "metadata": {},
     "output_type": "execute_result"
    }
   ],
   "source": [
    "Over_18[:3]"
   ]
  },
  {
   "cell_type": "code",
   "execution_count": 19,
   "metadata": {},
   "outputs": [
    {
     "data": {
      "text/plain": [
       "[794, 7912, 573]"
      ]
     },
     "execution_count": 19,
     "metadata": {},
     "output_type": "execute_result"
    }
   ],
   "source": [
    "Number_of_Comments[:3]"
   ]
  },
  {
   "cell_type": "code",
   "execution_count": 20,
   "metadata": {},
   "outputs": [],
   "source": [
    "Reddit_DataFrame = pd.DataFrame()\n",
    "Reddit_DataFrame['Title'] = Title\n",
    "Reddit_DataFrame['Ups'] = Ups\n",
    "Reddit_DataFrame['Downs'] = Downs\n",
    "Reddit_DataFrame['Upvote_ratio'] = Upvote_ratio\n",
    "Reddit_DataFrame['Score'] = Score\n",
    "Reddit_DataFrame['Gilded'] = Gilded\n",
    "Reddit_DataFrame['Over_18'] = Over_18\n",
    "Reddit_DataFrame['Number_of_Comments'] = Number_of_Comments"
   ]
  },
  {
   "cell_type": "code",
   "execution_count": 22,
   "metadata": {},
   "outputs": [],
   "source": [
    "Reddit_DataFrame.to_csv('RedditVisualized.csv') "
   ]
  },
  {
   "cell_type": "code",
   "execution_count": 23,
   "metadata": {},
   "outputs": [
    {
     "data": {
      "text/html": [
       "<div>\n",
       "<style scoped>\n",
       "    .dataframe tbody tr th:only-of-type {\n",
       "        vertical-align: middle;\n",
       "    }\n",
       "\n",
       "    .dataframe tbody tr th {\n",
       "        vertical-align: top;\n",
       "    }\n",
       "\n",
       "    .dataframe thead th {\n",
       "        text-align: right;\n",
       "    }\n",
       "</style>\n",
       "<table border=\"1\" class=\"dataframe\">\n",
       "  <thead>\n",
       "    <tr style=\"text-align: right;\">\n",
       "      <th></th>\n",
       "      <th>Title</th>\n",
       "      <th>Ups</th>\n",
       "      <th>Downs</th>\n",
       "      <th>Upvote_ratio</th>\n",
       "      <th>Score</th>\n",
       "      <th>Gilded</th>\n",
       "      <th>Over_18</th>\n",
       "      <th>Number_of_Comments</th>\n",
       "    </tr>\n",
       "  </thead>\n",
       "  <tbody>\n",
       "    <tr>\n",
       "      <th>0</th>\n",
       "      <td>No good work goes unpunished</td>\n",
       "      <td>36797</td>\n",
       "      <td>0</td>\n",
       "      <td>0.95</td>\n",
       "      <td>36797</td>\n",
       "      <td>0</td>\n",
       "      <td>False</td>\n",
       "      <td>794</td>\n",
       "    </tr>\n",
       "    <tr>\n",
       "      <th>1</th>\n",
       "      <td>Redditors whose job requires them to go into o...</td>\n",
       "      <td>43779</td>\n",
       "      <td>0</td>\n",
       "      <td>0.91</td>\n",
       "      <td>43779</td>\n",
       "      <td>0</td>\n",
       "      <td>False</td>\n",
       "      <td>7912</td>\n",
       "    </tr>\n",
       "    <tr>\n",
       "      <th>2</th>\n",
       "      <td>TIL Honeybee venom rapidly kills aggressive br...</td>\n",
       "      <td>34117</td>\n",
       "      <td>0</td>\n",
       "      <td>0.93</td>\n",
       "      <td>34117</td>\n",
       "      <td>1</td>\n",
       "      <td>False</td>\n",
       "      <td>573</td>\n",
       "    </tr>\n",
       "    <tr>\n",
       "      <th>3</th>\n",
       "      <td>Chinese journalist who documented Wuhan corona...</td>\n",
       "      <td>56032</td>\n",
       "      <td>0</td>\n",
       "      <td>0.91</td>\n",
       "      <td>56032</td>\n",
       "      <td>1</td>\n",
       "      <td>False</td>\n",
       "      <td>3156</td>\n",
       "    </tr>\n",
       "    <tr>\n",
       "      <th>4</th>\n",
       "      <td>What are some slang terms a 45 year old dad ca...</td>\n",
       "      <td>13259</td>\n",
       "      <td>0</td>\n",
       "      <td>0.87</td>\n",
       "      <td>13259</td>\n",
       "      <td>1</td>\n",
       "      <td>False</td>\n",
       "      <td>2725</td>\n",
       "    </tr>\n",
       "    <tr>\n",
       "      <th>...</th>\n",
       "      <td>...</td>\n",
       "      <td>...</td>\n",
       "      <td>...</td>\n",
       "      <td>...</td>\n",
       "      <td>...</td>\n",
       "      <td>...</td>\n",
       "      <td>...</td>\n",
       "      <td>...</td>\n",
       "    </tr>\n",
       "    <tr>\n",
       "      <th>7159</th>\n",
       "      <td>( ͡° ͜ʖ ͡°)</td>\n",
       "      <td>1307</td>\n",
       "      <td>0</td>\n",
       "      <td>0.98</td>\n",
       "      <td>1307</td>\n",
       "      <td>0</td>\n",
       "      <td>False</td>\n",
       "      <td>7</td>\n",
       "    </tr>\n",
       "    <tr>\n",
       "      <th>7160</th>\n",
       "      <td>theyre too real</td>\n",
       "      <td>87</td>\n",
       "      <td>0</td>\n",
       "      <td>0.98</td>\n",
       "      <td>87</td>\n",
       "      <td>0</td>\n",
       "      <td>False</td>\n",
       "      <td>0</td>\n",
       "    </tr>\n",
       "    <tr>\n",
       "      <th>7161</th>\n",
       "      <td>Still doing it even if I'm 20 and I don't care</td>\n",
       "      <td>66</td>\n",
       "      <td>0</td>\n",
       "      <td>0.98</td>\n",
       "      <td>66</td>\n",
       "      <td>0</td>\n",
       "      <td>False</td>\n",
       "      <td>4</td>\n",
       "    </tr>\n",
       "    <tr>\n",
       "      <th>7162</th>\n",
       "      <td>Whomst has summoned the almighty one?</td>\n",
       "      <td>63</td>\n",
       "      <td>0</td>\n",
       "      <td>0.94</td>\n",
       "      <td>63</td>\n",
       "      <td>0</td>\n",
       "      <td>False</td>\n",
       "      <td>5</td>\n",
       "    </tr>\n",
       "    <tr>\n",
       "      <th>7163</th>\n",
       "      <td>I like..uhhhhh</td>\n",
       "      <td>7458</td>\n",
       "      <td>0</td>\n",
       "      <td>0.99</td>\n",
       "      <td>7458</td>\n",
       "      <td>0</td>\n",
       "      <td>False</td>\n",
       "      <td>24</td>\n",
       "    </tr>\n",
       "  </tbody>\n",
       "</table>\n",
       "<p>7164 rows × 8 columns</p>\n",
       "</div>"
      ],
      "text/plain": [
       "                                                  Title    Ups  Downs  \\\n",
       "0                          No good work goes unpunished  36797      0   \n",
       "1     Redditors whose job requires them to go into o...  43779      0   \n",
       "2     TIL Honeybee venom rapidly kills aggressive br...  34117      0   \n",
       "3     Chinese journalist who documented Wuhan corona...  56032      0   \n",
       "4     What are some slang terms a 45 year old dad ca...  13259      0   \n",
       "...                                                 ...    ...    ...   \n",
       "7159                                        ( ͡° ͜ʖ ͡°)   1307      0   \n",
       "7160                                    theyre too real     87      0   \n",
       "7161     Still doing it even if I'm 20 and I don't care     66      0   \n",
       "7162              Whomst has summoned the almighty one?     63      0   \n",
       "7163                                     I like..uhhhhh   7458      0   \n",
       "\n",
       "      Upvote_ratio  Score  Gilded  Over_18  Number_of_Comments  \n",
       "0             0.95  36797       0    False                 794  \n",
       "1             0.91  43779       0    False                7912  \n",
       "2             0.93  34117       1    False                 573  \n",
       "3             0.91  56032       1    False                3156  \n",
       "4             0.87  13259       1    False                2725  \n",
       "...            ...    ...     ...      ...                 ...  \n",
       "7159          0.98   1307       0    False                   7  \n",
       "7160          0.98     87       0    False                   0  \n",
       "7161          0.98     66       0    False                   4  \n",
       "7162          0.94     63       0    False                   5  \n",
       "7163          0.99   7458       0    False                  24  \n",
       "\n",
       "[7164 rows x 8 columns]"
      ]
     },
     "execution_count": 23,
     "metadata": {},
     "output_type": "execute_result"
    }
   ],
   "source": [
    "Reddit_DataFrame"
   ]
  },
  {
   "cell_type": "code",
   "execution_count": null,
   "metadata": {},
   "outputs": [],
   "source": []
  }
 ],
 "metadata": {
  "kernelspec": {
   "display_name": "Python 3",
   "language": "python",
   "name": "python3"
  },
  "language_info": {
   "codemirror_mode": {
    "name": "ipython",
    "version": 3
   },
   "file_extension": ".py",
   "mimetype": "text/x-python",
   "name": "python",
   "nbconvert_exporter": "python",
   "pygments_lexer": "ipython3",
   "version": "3.8.5"
  }
 },
 "nbformat": 4,
 "nbformat_minor": 2
}
